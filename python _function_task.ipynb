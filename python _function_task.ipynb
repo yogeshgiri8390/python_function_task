{
 "cells": [
  {
   "cell_type": "markdown",
   "metadata": {},
   "source": [
    "# arthimetic operation function"
   ]
  },
  {
   "cell_type": "code",
   "execution_count": 19,
   "metadata": {},
   "outputs": [
    {
     "name": "stdout",
     "output_type": "stream",
     "text": [
      "val1 + val2 = 120+180=(result)\n"
     ]
    }
   ],
   "source": [
    "def addvalue(val1,val2):\n",
    "    result = val1 + val2\n",
    "    print(f'val1 + val2 = {val1}+{val2}=(result)')\n",
    "\n",
    "addvalue(120,180)\n"
   ]
  },
  {
   "cell_type": "code",
   "execution_count": 20,
   "metadata": {},
   "outputs": [
    {
     "name": "stdout",
     "output_type": "stream",
     "text": [
      "val1*val2 = 25*35=875\n"
     ]
    }
   ],
   "source": [
    "def multi(val1,val2):\n",
    "    result = val1*val2\n",
    "    print(f'val1*val2 = {val1}*{val2}={result}')\n",
    "\n",
    "\n",
    "multi(25,35)\n"
   ]
  },
  {
   "cell_type": "markdown",
   "metadata": {},
   "source": [
    "# comparision function"
   ]
  },
  {
   "cell_type": "code",
   "execution_count": 32,
   "metadata": {},
   "outputs": [
    {
     "name": "stdout",
     "output_type": "stream",
     "text": [
      "num1>num2=60>70=False\n",
      "num1>num2=50>30=True\n"
     ]
    }
   ],
   "source": [
    "def compare(num1,num2):\n",
    "    result = num1>num2\n",
    "    print(f'num1>num2={num1}>{num2}={result}')\n",
    "\n",
    "\n",
    "compare(60,70)\n",
    "compare(50,30)\n",
    "  \n",
    "\n"
   ]
  },
  {
   "cell_type": "markdown",
   "metadata": {},
   "source": [
    "# return function "
   ]
  },
  {
   "cell_type": "code",
   "execution_count": 30,
   "metadata": {},
   "outputs": [
    {
     "name": "stdout",
     "output_type": "stream",
     "text": [
      "val1/val2 =70/30=2.3333333333333335\n",
      "output=2.3333333333333335\n"
     ]
    }
   ],
   "source": [
    "def check(val1,val2):\n",
    "    result = val1/val2\n",
    "    print(f'val1/val2 ={val1}/{val2}={result}')\n",
    "    return result\n",
    "\n",
    "output=check(70,30)\n",
    "print(f'output={output}')"
   ]
  },
  {
   "cell_type": "code",
   "execution_count": 33,
   "metadata": {},
   "outputs": [
    {
     "name": "stdout",
     "output_type": "stream",
     "text": [
      "val1<vaal2=28<45 =True\n",
      "output=True\n"
     ]
    }
   ],
   "source": [
    "def com(val1,val2):\n",
    "    result = val1<val2\n",
    "    print(f'val1<vaal2={val1}<{val2} ={result}')\n",
    "    return result\n",
    "output=com(28,45)\n",
    "print(f'output={output}')"
   ]
  },
  {
   "cell_type": "code",
   "execution_count": null,
   "metadata": {},
   "outputs": [],
   "source": []
  }
 ],
 "metadata": {
  "kernelspec": {
   "display_name": "Python 3",
   "language": "python",
   "name": "python3"
  },
  "language_info": {
   "codemirror_mode": {
    "name": "ipython",
    "version": 3
   },
   "file_extension": ".py",
   "mimetype": "text/x-python",
   "name": "python",
   "nbconvert_exporter": "python",
   "pygments_lexer": "ipython3",
   "version": "3.12.4"
  }
 },
 "nbformat": 4,
 "nbformat_minor": 2
}
